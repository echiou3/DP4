{
 "cells": [
  {
   "cell_type": "markdown",
   "id": "2192b108",
   "metadata": {},
   "source": [
    "# Derive models of drone"
   ]
  },
  {
   "cell_type": "markdown",
   "id": "6ac3a4e5",
   "metadata": {},
   "source": [
    "Do all imports."
   ]
  },
  {
   "cell_type": "code",
   "execution_count": 2,
   "id": "c51ddd4f",
   "metadata": {},
   "outputs": [],
   "source": [
    "import sympy as sym\n",
    "import numpy as np\n",
    "\n",
    "# Suppress the use of scientific notation when printing small numbers\n",
    "np.set_printoptions(suppress=True)"
   ]
  },
  {
   "cell_type": "markdown",
   "id": "under-stupid",
   "metadata": {},
   "source": [
    "## Dynamic model"
   ]
  },
  {
   "cell_type": "markdown",
   "id": "17737b05",
   "metadata": {},
   "source": [
    "Define physical parameters."
   ]
  },
  {
   "cell_type": "code",
   "execution_count": 3,
   "id": "e1b2349d",
   "metadata": {},
   "outputs": [],
   "source": [
    "params = {\n",
    "    'm': 0.5,\n",
    "    'Jx': 0.0023,\n",
    "    'Jy': 0.0023,\n",
    "    'Jz': 0.0040,\n",
    "    'l': 0.175,\n",
    "    'g': 9.81,\n",
    "}"
   ]
  },
  {
   "cell_type": "markdown",
   "id": "following-implementation",
   "metadata": {},
   "source": [
    "Derive the equations of motion:"
   ]
  },
  {
   "cell_type": "code",
   "execution_count": 4,
   "id": "executive-channel",
   "metadata": {},
   "outputs": [],
   "source": [
    "# components of position (meters)\n",
    "p_x, p_y, p_z = sym.symbols('p_x, p_y, p_z')\n",
    "\n",
    "# yaw, pitch, roll angles (radians)\n",
    "psi, theta, phi = sym.symbols('psi, theta, phi')\n",
    "\n",
    "# components of linear velocity (meters / second)\n",
    "v_x, v_y, v_z = sym.symbols('v_x, v_y, v_z')\n",
    "v_in_body = sym.Matrix([v_x, v_y, v_z])\n",
    "\n",
    "# components of angular velocity (radians / second)\n",
    "w_x, w_y, w_z = sym.symbols('w_x, w_y, w_z')\n",
    "w_in_body = sym.Matrix([w_x, w_y, w_z])\n",
    "\n",
    "# components of net rotor torque\n",
    "tau_x, tau_y, tau_z = sym.symbols('tau_x, tau_y, tau_z')\n",
    "\n",
    "# net rotor force\n",
    "f_z = sym.symbols('f_z')\n",
    "\n",
    "# parameters\n",
    "m = sym.nsimplify(params['m'])\n",
    "Jx = sym.nsimplify(params['Jx'])\n",
    "Jy = sym.nsimplify(params['Jy'])\n",
    "Jz = sym.nsimplify(params['Jz'])\n",
    "l = sym.nsimplify(params['l'])\n",
    "g = sym.nsimplify(params['g'])\n",
    "J = sym.diag(Jx, Jy, Jz)\n",
    "\n",
    "# rotation matrices\n",
    "Rz = sym.Matrix([[sym.cos(psi), -sym.sin(psi), 0], [sym.sin(psi), sym.cos(psi), 0], [0, 0, 1]])\n",
    "Ry = sym.Matrix([[sym.cos(theta), 0, sym.sin(theta)], [0, 1, 0], [-sym.sin(theta), 0, sym.cos(theta)]])\n",
    "Rx = sym.Matrix([[1, 0, 0], [0, sym.cos(phi), -sym.sin(phi)], [0, sym.sin(phi), sym.cos(phi)]])\n",
    "R_body_in_world = Rz @ Ry @ Rx\n",
    "\n",
    "# angular velocity to angular rates\n",
    "ex = sym.Matrix([[1], [0], [0]])\n",
    "ey = sym.Matrix([[0], [1], [0]])\n",
    "ez = sym.Matrix([[0], [0], [1]])\n",
    "M = sym.simplify(sym.Matrix.hstack((Ry @ Rx).T @ ez, Rx.T @ ey, ex).inv(), full=True)\n",
    "\n",
    "# applied forces\n",
    "f_in_body = R_body_in_world.T @ sym.Matrix([[0], [0], [-m * g]]) + sym.Matrix([[0], [0], [f_z]])\n",
    "\n",
    "# applied torques\n",
    "tau_in_body = sym.Matrix([[tau_x], [tau_y], [tau_z]])\n",
    "\n",
    "# equations of motion\n",
    "f = sym.Matrix.vstack(\n",
    "    R_body_in_world @ v_in_body,\n",
    "    M @ w_in_body,\n",
    "    (1 / m) * (f_in_body - w_in_body.cross(m * v_in_body)),\n",
    "    J.inv() @ (tau_in_body - w_in_body.cross(J @ w_in_body)),\n",
    ")\n",
    "\n",
    "f = sym.simplify(f, full=True)"
   ]
  },
  {
   "cell_type": "markdown",
   "id": "according-occasion",
   "metadata": {},
   "source": [
    "The equations of motion have this form:\n",
    "\n",
    "$$\\begin{bmatrix} \\dot{p}_x \\\\ \\dot{p}_y \\\\ \\dot{p}_z \\\\ \\dot{\\psi} \\\\ \\dot{\\theta} \\\\ \\dot{\\phi} \\\\ \\dot{v}_x \\\\ \\dot{v}_y \\\\ \\dot{v}_z \\\\ \\dot{w}_x \\\\ \\dot{w}_y \\\\ \\dot{w}_z \\end{bmatrix} = f\\left(p_x, p_y, p_z, \\psi, \\theta, \\phi, v_x, v_y, v_z, w_x, w_y, w_z, \\tau_x, \\tau_y, \\tau_z, f_z \\right)$$\n",
    "\n",
    "Here is the function $f$:"
   ]
  },
  {
   "cell_type": "code",
   "execution_count": 5,
   "id": "welsh-passion",
   "metadata": {},
   "outputs": [
    {
     "data": {
      "text/latex": [
       "$\\displaystyle \\left[\\begin{matrix}v_{x} \\cos{\\left(\\psi \\right)} \\cos{\\left(\\theta \\right)} + v_{y} \\left(\\sin{\\left(\\phi \\right)} \\sin{\\left(\\theta \\right)} \\cos{\\left(\\psi \\right)} - \\sin{\\left(\\psi \\right)} \\cos{\\left(\\phi \\right)}\\right) + v_{z} \\left(\\sin{\\left(\\phi \\right)} \\sin{\\left(\\psi \\right)} + \\sin{\\left(\\theta \\right)} \\cos{\\left(\\phi \\right)} \\cos{\\left(\\psi \\right)}\\right)\\\\v_{x} \\sin{\\left(\\psi \\right)} \\cos{\\left(\\theta \\right)} + v_{y} \\left(\\sin{\\left(\\phi \\right)} \\sin{\\left(\\psi \\right)} \\sin{\\left(\\theta \\right)} + \\cos{\\left(\\phi \\right)} \\cos{\\left(\\psi \\right)}\\right) - v_{z} \\left(\\sin{\\left(\\phi \\right)} \\cos{\\left(\\psi \\right)} - \\sin{\\left(\\psi \\right)} \\sin{\\left(\\theta \\right)} \\cos{\\left(\\phi \\right)}\\right)\\\\- v_{x} \\sin{\\left(\\theta \\right)} + v_{y} \\sin{\\left(\\phi \\right)} \\cos{\\left(\\theta \\right)} + v_{z} \\cos{\\left(\\phi \\right)} \\cos{\\left(\\theta \\right)}\\\\\\frac{w_{y} \\sin{\\left(\\phi \\right)} + w_{z} \\cos{\\left(\\phi \\right)}}{\\cos{\\left(\\theta \\right)}}\\\\w_{y} \\cos{\\left(\\phi \\right)} - w_{z} \\sin{\\left(\\phi \\right)}\\\\w_{x} + w_{y} \\sin{\\left(\\phi \\right)} \\tan{\\left(\\theta \\right)} + w_{z} \\cos{\\left(\\phi \\right)} \\tan{\\left(\\theta \\right)}\\\\v_{y} w_{z} - v_{z} w_{y} + \\frac{981 \\sin{\\left(\\theta \\right)}}{100}\\\\- v_{x} w_{z} + v_{z} w_{x} - \\frac{981 \\sin{\\left(\\phi \\right)} \\cos{\\left(\\theta \\right)}}{100}\\\\2 f_{z} + v_{x} w_{y} - v_{y} w_{x} - \\frac{981 \\cos{\\left(\\phi \\right)} \\cos{\\left(\\theta \\right)}}{100}\\\\\\frac{10000 \\tau_{x}}{23} - \\frac{17 w_{y} w_{z}}{23}\\\\\\frac{10000 \\tau_{y}}{23} + \\frac{17 w_{x} w_{z}}{23}\\\\250 \\tau_{z}\\end{matrix}\\right]$"
      ],
      "text/plain": [
       "Matrix([\n",
       "[v_x*cos(psi)*cos(theta) + v_y*(sin(phi)*sin(theta)*cos(psi) - sin(psi)*cos(phi)) + v_z*(sin(phi)*sin(psi) + sin(theta)*cos(phi)*cos(psi))],\n",
       "[v_x*sin(psi)*cos(theta) + v_y*(sin(phi)*sin(psi)*sin(theta) + cos(phi)*cos(psi)) - v_z*(sin(phi)*cos(psi) - sin(psi)*sin(theta)*cos(phi))],\n",
       "[                                                                      -v_x*sin(theta) + v_y*sin(phi)*cos(theta) + v_z*cos(phi)*cos(theta)],\n",
       "[                                                                                                 (w_y*sin(phi) + w_z*cos(phi))/cos(theta)],\n",
       "[                                                                                                              w_y*cos(phi) - w_z*sin(phi)],\n",
       "[                                                                                  w_x + w_y*sin(phi)*tan(theta) + w_z*cos(phi)*tan(theta)],\n",
       "[                                                                                                   v_y*w_z - v_z*w_y + 981*sin(theta)/100],\n",
       "[                                                                                         -v_x*w_z + v_z*w_x - 981*sin(phi)*cos(theta)/100],\n",
       "[                                                                                  2*f_z + v_x*w_y - v_y*w_x - 981*cos(phi)*cos(theta)/100],\n",
       "[                                                                                                           10000*tau_x/23 - 17*w_y*w_z/23],\n",
       "[                                                                                                           10000*tau_y/23 + 17*w_x*w_z/23],\n",
       "[                                                                                                                                250*tau_z]])"
      ]
     },
     "execution_count": 5,
     "metadata": {},
     "output_type": "execute_result"
    }
   ],
   "source": [
    "f"
   ]
  },
  {
   "cell_type": "markdown",
   "id": "b0c8096f",
   "metadata": {},
   "source": [
    "## Sensor model"
   ]
  },
  {
   "cell_type": "markdown",
   "id": "9fd374c5",
   "metadata": {},
   "source": [
    "Define the sensor model."
   ]
  },
  {
   "cell_type": "code",
   "execution_count": 20,
   "id": "14255c26",
   "metadata": {},
   "outputs": [],
   "source": [
    "# Position of drone in world frame\n",
    "p_in_world = sym.Matrix([p_x, p_y, p_z])\n",
    "\n",
    "# Position of markers in body frame\n",
    "a_in_body = sym.Matrix([l, 0, 0])  # <-- marker on front rotor\n",
    "b_in_body = sym.Matrix([-l, 0, 0]) # <-- marker on rear rotor\n",
    "\n",
    "# Position of markers in world frame\n",
    "a_in_world = p_in_world + R_body_in_world @ a_in_body\n",
    "b_in_world = p_in_world + R_body_in_world @ b_in_body\n",
    "\n",
    "# Sensor model\n",
    "g = sym.simplify(sym.Matrix.vstack(a_in_world, b_in_world))"
   ]
  },
  {
   "cell_type": "markdown",
   "id": "8e33f4f7",
   "metadata": {},
   "source": [
    "The sensor model has this form:\n",
    "\n",
    "$$o = g(p_x, p_y, p_z, \\psi, \\theta)$$\n",
    "\n",
    "Here is the function $g$:"
   ]
  },
  {
   "cell_type": "code",
   "execution_count": 21,
   "id": "ecc9e8bd",
   "metadata": {},
   "outputs": [
    {
     "data": {
      "text/latex": [
       "$\\displaystyle \\left[\\begin{matrix}p_{x} + \\frac{7 \\cos{\\left(\\psi \\right)} \\cos{\\left(\\theta \\right)}}{40}\\\\p_{y} + \\frac{7 \\sin{\\left(\\psi \\right)} \\cos{\\left(\\theta \\right)}}{40}\\\\p_{z} - \\frac{7 \\sin{\\left(\\theta \\right)}}{40}\\\\p_{x} + \\frac{7 \\cos{\\left(\\psi \\right)} \\cos{\\left(\\theta \\right)}}{40}\\\\p_{y} + \\frac{7 \\sin{\\left(\\psi \\right)} \\cos{\\left(\\theta \\right)}}{40}\\\\p_{z} - \\frac{7 \\sin{\\left(\\theta \\right)}}{40}\\end{matrix}\\right]$"
      ],
      "text/plain": [
       "Matrix([\n",
       "[p_x + 7*cos(psi)*cos(theta)/40],\n",
       "[p_y + 7*sin(psi)*cos(theta)/40],\n",
       "[         p_z - 7*sin(theta)/40],\n",
       "[p_x + 7*cos(psi)*cos(theta)/40],\n",
       "[p_y + 7*sin(psi)*cos(theta)/40],\n",
       "[         p_z - 7*sin(theta)/40]])"
      ]
     },
     "execution_count": 21,
     "metadata": {},
     "output_type": "execute_result"
    }
   ],
   "source": [
    "g"
   ]
  },
  {
   "cell_type": "code",
   "execution_count": 34,
   "id": "95382ceb",
   "metadata": {
    "scrolled": false
   },
   "outputs": [
    {
     "data": {
      "text/plain": [
       "(12, 12)"
      ]
     },
     "execution_count": 34,
     "metadata": {},
     "output_type": "execute_result"
    }
   ],
   "source": [
    "p_xe = 0\n",
    "p_ye = 0 \n",
    "p_ze = 0\n",
    "psie = 0 #np.pi/2\n",
    "thetae = 0\n",
    "phie = 0 #np.pi/2\n",
    "v_xe = 0\n",
    "v_ye = 0 \n",
    "v_ze = 0 \n",
    "w_xe = 0 \n",
    "w_ye = 0 \n",
    "w_ze = 0 \n",
    "tau_xe = 0 \n",
    "tau_ye = 0 \n",
    "tau_ze = 0\n",
    "f_ze = 9.81/2 \n",
    "\n",
    "\n",
    "x = sym.Matrix([p_x, p_y, p_z, psi, theta, phi, v_x, v_y, v_z, w_x, w_y, w_z])\n",
    "u = sym.Matrix([tau_x, tau_y, tau_z, f_z])\n",
    "\n",
    "\n",
    "\n",
    "\n",
    "f_num = sym.lambdify((p_x, p_y, p_z, psi, theta, phi, v_x, v_y, v_z, w_x, w_y, w_z, tau_x, tau_y, tau_z, f_z), f)\n",
    "\n",
    "A_num = sym.lambdify((p_x, p_y, p_z, psi, theta, phi, v_x, v_y, v_z, w_x, w_y, w_z, tau_x, tau_y, tau_z, f_z), f.jacobian(x))\n",
    "A = A_num(p_xe, p_ye, p_ze, psie, thetae, phie, v_xe, v_ye, v_ze, w_xe, w_ye, w_ze, tau_xe, tau_ye, tau_ze, f_ze)\n",
    "\n",
    "B_num = sym.lambdify((p_x, p_y, p_z, psi, theta, phi, v_x, v_y, v_z, w_x, w_y, w_z, tau_x, tau_y, tau_z, f_z), f.jacobian(u))\n",
    "B = B_num(p_xe, p_ye, p_ze, psie, thetae, phie, v_xe, v_ye, v_ze, w_xe, w_ye, w_ze, tau_xe, tau_ye, tau_ze, f_ze)\n",
    "\n",
    "g_num = sym.lambdify((p_x, p_y, p_z, psi, theta, phi, v_x, v_y, v_z, w_x, w_y, w_z, tau_x, tau_y, tau_z, f_z), g)\n",
    "\n",
    "C_num = sym.lambdify((p_x, p_y, p_z, psi, theta, phi, v_x, v_y, v_z, w_x, w_y, w_z, tau_x, tau_y, tau_z, f_z), g.jacobian([p_x, p_y, p_z, psi, theta]))\n",
    "C = C_num(p_xe, p_ye, p_ze, psie, thetae, phie, v_xe, v_ye, v_ze, w_xe, w_ye, w_ze, tau_xe, tau_ye, tau_ze, f_ze)\n",
    "\n",
    "f_check = f_num(p_xe, p_ye, p_ze, psie, thetae, phie, v_xe, v_ye, v_ze, w_xe, w_ye, w_ze, tau_xe, tau_ye, tau_ze, f_ze)\n",
    "\n",
    "g_check = g_num(p_xe, p_ye, p_ze, psie, thetae, phie, v_xe, v_ye, v_ze, w_xe, w_ye, w_ze, tau_xe, tau_ye, tau_ze, f_ze)\n",
    "g_check\n",
    "#sym.shape(A)\n",
    "\n"
   ]
  },
  {
   "cell_type": "code",
   "execution_count": 17,
   "id": "ae42f3b4",
   "metadata": {},
   "outputs": [],
   "source": [
    "from scipy import linalg\n",
    "def lqr(A,B,Q,R):\n",
    "    P=linalg.solve_continuous_are(A,B,Q,R)\n",
    "    K=linalg.inv(R) @ B.T @ P\n",
    "    return K"
   ]
  },
  {
   "cell_type": "code",
   "execution_count": 10,
   "id": "27b99e69",
   "metadata": {},
   "outputs": [],
   "source": [
    "Wc = np.block([B, A@B, A@A@B, A@A@A@B, A@A@A@A@B, A@A@A@A@A@B])\n",
    "cont = np.linalg.matrix_rank(Wc)\n"
   ]
  },
  {
   "cell_type": "code",
   "execution_count": 13,
   "id": "6ca55c7a",
   "metadata": {},
   "outputs": [
    {
     "name": "stdout",
     "output_type": "stream",
     "text": [
      "[[ 0.         -1.          0.         -0.         -0.          5.46213218\n",
      "   0.         -1.45381723  0.          1.01248497  0.         -0.        ]\n",
      " [ 1.          0.         -0.         -0.          5.46213218 -0.\n",
      "   1.45381723  0.         -0.          0.          1.01248497  0.        ]\n",
      " [ 0.          0.          0.          1.          0.         -0.\n",
      "   0.          0.          0.         -0.          0.          1.00399203]\n",
      " [-0.         -0.          1.          0.         -0.          0.\n",
      "  -0.         -0.          1.41421356  0.         -0.          0.        ]]\n"
     ]
    },
    {
     "data": {
      "text/plain": [
       "array([-434.78145927+0.j        , -434.78145927+0.j        ,\n",
       "       -249.99799996+0.j        ,   -2.21469792+2.21475479j,\n",
       "         -2.21469792-2.21475479j,   -2.21469792+2.21475479j,\n",
       "         -2.21469792-2.21475479j,   -1.41421356+0.00000016j,\n",
       "         -1.41421356-0.00000016j,   -1.00000003+0.j        ,\n",
       "         -1.00000003+0.j        ,   -1.000008  +0.j        ])"
      ]
     },
     "execution_count": 13,
     "metadata": {},
     "output_type": "execute_result"
    }
   ],
   "source": [
    "Qc = np.eye(12)\n",
    "Rc = (np.eye(4))\n",
    "K = lqr(A, B, Qc, Rc)\n",
    "\n",
    "print(K) \n",
    "F = A-B@K\n",
    "np.linalg.eigvals(F)\n"
   ]
  },
  {
   "cell_type": "code",
   "execution_count": 40,
   "id": "c19635bf",
   "metadata": {},
   "outputs": [
    {
     "ename": "ValueError",
     "evalue": "matmul: Input operand 1 has a mismatch in its core dimension 0, with gufunc signature (n?,k),(k,m?)->(n?,m?) (size 5 is different from 12)",
     "output_type": "error",
     "traceback": [
      "\u001b[0;31m---------------------------------------------------------------------------\u001b[0m",
      "\u001b[0;31mValueError\u001b[0m                                Traceback (most recent call last)",
      "Cell \u001b[0;32mIn[40], line 1\u001b[0m\n\u001b[0;32m----> 1\u001b[0m Wo \u001b[38;5;241m=\u001b[39m np\u001b[38;5;241m.\u001b[39mblock([C\u001b[38;5;241m.\u001b[39mT, \u001b[43mA\u001b[49m\u001b[38;5;241;43m.\u001b[39;49m\u001b[43mT\u001b[49m\u001b[38;5;129;43m@C\u001b[39;49m\u001b[38;5;241;43m.\u001b[39;49m\u001b[43mT\u001b[49m, (A\u001b[38;5;241m.\u001b[39mT)\u001b[38;5;241m*\u001b[39m\u001b[38;5;241m*\u001b[39m\u001b[38;5;241m2\u001b[39m\u001b[38;5;129m@C\u001b[39m\u001b[38;5;241m.\u001b[39mT, (A\u001b[38;5;241m.\u001b[39mT)\u001b[38;5;241m*\u001b[39m\u001b[38;5;241m*\u001b[39m\u001b[38;5;241m3\u001b[39m\u001b[38;5;129m@C\u001b[39m\u001b[38;5;241m.\u001b[39mT, (A\u001b[38;5;241m.\u001b[39mT)\u001b[38;5;241m*\u001b[39m\u001b[38;5;241m*\u001b[39m\u001b[38;5;241m4\u001b[39m\u001b[38;5;129m@C\u001b[39m\u001b[38;5;241m.\u001b[39mT, (A\u001b[38;5;241m.\u001b[39mT)\u001b[38;5;241m*\u001b[39m\u001b[38;5;241m*\u001b[39m\u001b[38;5;241m5\u001b[39m\u001b[38;5;129m@C\u001b[39m\u001b[38;5;241m.\u001b[39mT])\n\u001b[1;32m      2\u001b[0m obsv \u001b[38;5;241m=\u001b[39m np\u001b[38;5;241m.\u001b[39mlinalg\u001b[38;5;241m.\u001b[39mmatrix_rank(Wo)\n",
      "\u001b[0;31mValueError\u001b[0m: matmul: Input operand 1 has a mismatch in its core dimension 0, with gufunc signature (n?,k),(k,m?)->(n?,m?) (size 5 is different from 12)"
     ]
    }
   ],
   "source": [
    "Wo = np.block([C.T, A.T@C.T, (A.T)**2@C.T, (A.T)**3@C.T, (A.T)**4@C.T, (A.T)**5@C.T])\n",
    "obsv = np.linalg.matrix_rank(Wo)\n"
   ]
  },
  {
   "cell_type": "code",
   "execution_count": 79,
   "id": "14b0ddf3",
   "metadata": {},
   "outputs": [
    {
     "ename": "ValueError",
     "evalue": "Matrix a and b should have the same number of rows.",
     "output_type": "error",
     "traceback": [
      "\u001b[0;31m---------------------------------------------------------------------------\u001b[0m",
      "\u001b[0;31mValueError\u001b[0m                                Traceback (most recent call last)",
      "Cell \u001b[0;32mIn[79], line 4\u001b[0m\n\u001b[1;32m      1\u001b[0m Qo \u001b[38;5;241m=\u001b[39m np\u001b[38;5;241m.\u001b[39meye(\u001b[38;5;241m12\u001b[39m)\n\u001b[1;32m      2\u001b[0m Ro \u001b[38;5;241m=\u001b[39m (np\u001b[38;5;241m.\u001b[39meye(\u001b[38;5;241m5\u001b[39m))\n\u001b[0;32m----> 4\u001b[0m L \u001b[38;5;241m=\u001b[39m \u001b[43mlqr\u001b[49m\u001b[43m(\u001b[49m\u001b[43mA\u001b[49m\u001b[38;5;241;43m.\u001b[39;49m\u001b[43mT\u001b[49m\u001b[43m,\u001b[49m\u001b[43m \u001b[49m\u001b[43mC\u001b[49m\u001b[38;5;241;43m.\u001b[39;49m\u001b[43mT\u001b[49m\u001b[43m,\u001b[49m\u001b[43m \u001b[49m\u001b[43mnp\u001b[49m\u001b[38;5;241;43m.\u001b[39;49m\u001b[43mlinalg\u001b[49m\u001b[38;5;241;43m.\u001b[39;49m\u001b[43minv\u001b[49m\u001b[43m(\u001b[49m\u001b[43mRo\u001b[49m\u001b[43m)\u001b[49m\u001b[43m,\u001b[49m\u001b[43m \u001b[49m\u001b[43mnp\u001b[49m\u001b[38;5;241;43m.\u001b[39;49m\u001b[43mlinalg\u001b[49m\u001b[38;5;241;43m.\u001b[39;49m\u001b[43minv\u001b[49m\u001b[43m(\u001b[49m\u001b[43mQo\u001b[49m\u001b[43m)\u001b[49m\u001b[43m)\u001b[49m\u001b[38;5;241m.\u001b[39mT\n",
      "Cell \u001b[0;32mIn[70], line 3\u001b[0m, in \u001b[0;36mlqr\u001b[0;34m(A, B, Q, R)\u001b[0m\n\u001b[1;32m      2\u001b[0m \u001b[38;5;28;01mdef\u001b[39;00m \u001b[38;5;21mlqr\u001b[39m(A,B,Q,R):\n\u001b[0;32m----> 3\u001b[0m     P\u001b[38;5;241m=\u001b[39m\u001b[43mlinalg\u001b[49m\u001b[38;5;241;43m.\u001b[39;49m\u001b[43msolve_continuous_are\u001b[49m\u001b[43m(\u001b[49m\u001b[43mA\u001b[49m\u001b[43m,\u001b[49m\u001b[43mB\u001b[49m\u001b[43m,\u001b[49m\u001b[43mQ\u001b[49m\u001b[43m,\u001b[49m\u001b[43mR\u001b[49m\u001b[43m)\u001b[49m\n\u001b[1;32m      4\u001b[0m     K\u001b[38;5;241m=\u001b[39mlinalg\u001b[38;5;241m.\u001b[39minv(R) \u001b[38;5;241m@\u001b[39m B\u001b[38;5;241m.\u001b[39mT \u001b[38;5;241m@\u001b[39m P\n\u001b[1;32m      5\u001b[0m     \u001b[38;5;28;01mreturn\u001b[39;00m K\n",
      "File \u001b[0;32m~/opt/anaconda3/envs/ae353/lib/python3.11/site-packages/scipy/linalg/_solvers.py:448\u001b[0m, in \u001b[0;36msolve_continuous_are\u001b[0;34m(a, b, q, r, e, s, balanced)\u001b[0m\n\u001b[1;32m    329\u001b[0m \u001b[38;5;250m\u001b[39m\u001b[38;5;124mr\u001b[39m\u001b[38;5;124;03m\"\"\"\u001b[39;00m\n\u001b[1;32m    330\u001b[0m \u001b[38;5;124;03mSolves the continuous-time algebraic Riccati equation (CARE).\u001b[39;00m\n\u001b[1;32m    331\u001b[0m \n\u001b[0;32m   (...)\u001b[0m\n\u001b[1;32m    444\u001b[0m \n\u001b[1;32m    445\u001b[0m \u001b[38;5;124;03m\"\"\"\u001b[39;00m\n\u001b[1;32m    447\u001b[0m \u001b[38;5;66;03m# Validate input arguments\u001b[39;00m\n\u001b[0;32m--> 448\u001b[0m a, b, q, r, e, s, m, n, r_or_c, gen_are \u001b[38;5;241m=\u001b[39m \u001b[43m_are_validate_args\u001b[49m\u001b[43m(\u001b[49m\n\u001b[1;32m    449\u001b[0m \u001b[43m                                                 \u001b[49m\u001b[43ma\u001b[49m\u001b[43m,\u001b[49m\u001b[43m \u001b[49m\u001b[43mb\u001b[49m\u001b[43m,\u001b[49m\u001b[43m \u001b[49m\u001b[43mq\u001b[49m\u001b[43m,\u001b[49m\u001b[43m \u001b[49m\u001b[43mr\u001b[49m\u001b[43m,\u001b[49m\u001b[43m \u001b[49m\u001b[43me\u001b[49m\u001b[43m,\u001b[49m\u001b[43m \u001b[49m\u001b[43ms\u001b[49m\u001b[43m,\u001b[49m\u001b[43m \u001b[49m\u001b[38;5;124;43m'\u001b[39;49m\u001b[38;5;124;43mcare\u001b[39;49m\u001b[38;5;124;43m'\u001b[39;49m\u001b[43m)\u001b[49m\n\u001b[1;32m    451\u001b[0m H \u001b[38;5;241m=\u001b[39m np\u001b[38;5;241m.\u001b[39mempty((\u001b[38;5;241m2\u001b[39m\u001b[38;5;241m*\u001b[39mm\u001b[38;5;241m+\u001b[39mn, \u001b[38;5;241m2\u001b[39m\u001b[38;5;241m*\u001b[39mm\u001b[38;5;241m+\u001b[39mn), dtype\u001b[38;5;241m=\u001b[39mr_or_c)\n\u001b[1;32m    452\u001b[0m H[:m, :m] \u001b[38;5;241m=\u001b[39m a\n",
      "File \u001b[0;32m~/opt/anaconda3/envs/ae353/lib/python3.11/site-packages/scipy/linalg/_solvers.py:804\u001b[0m, in \u001b[0;36m_are_validate_args\u001b[0;34m(a, b, q, r, e, s, eq_type)\u001b[0m\n\u001b[1;32m    802\u001b[0m m, n \u001b[38;5;241m=\u001b[39m b\u001b[38;5;241m.\u001b[39mshape\n\u001b[1;32m    803\u001b[0m \u001b[38;5;28;01mif\u001b[39;00m m \u001b[38;5;241m!=\u001b[39m a\u001b[38;5;241m.\u001b[39mshape[\u001b[38;5;241m0\u001b[39m]:\n\u001b[0;32m--> 804\u001b[0m     \u001b[38;5;28;01mraise\u001b[39;00m \u001b[38;5;167;01mValueError\u001b[39;00m(\u001b[38;5;124m\"\u001b[39m\u001b[38;5;124mMatrix a and b should have the same number of rows.\u001b[39m\u001b[38;5;124m\"\u001b[39m)\n\u001b[1;32m    805\u001b[0m \u001b[38;5;28;01mif\u001b[39;00m m \u001b[38;5;241m!=\u001b[39m q\u001b[38;5;241m.\u001b[39mshape[\u001b[38;5;241m0\u001b[39m]:\n\u001b[1;32m    806\u001b[0m     \u001b[38;5;28;01mraise\u001b[39;00m \u001b[38;5;167;01mValueError\u001b[39;00m(\u001b[38;5;124m\"\u001b[39m\u001b[38;5;124mMatrix a and q should have the same shape.\u001b[39m\u001b[38;5;124m\"\u001b[39m)\n",
      "\u001b[0;31mValueError\u001b[0m: Matrix a and b should have the same number of rows."
     ]
    }
   ],
   "source": [
    "Qo = np.eye(12)\n",
    "Ro = (np.eye(5))\n",
    "\n",
    "L = lqr(A.T, C.T, np.linalg.inv(Ro), np.linalg.inv(Qo)).T\n"
   ]
  },
  {
   "cell_type": "code",
   "execution_count": null,
   "id": "eabc5e1e",
   "metadata": {},
   "outputs": [],
   "source": []
  },
  {
   "cell_type": "code",
   "execution_count": null,
   "id": "ae9d9982",
   "metadata": {},
   "outputs": [],
   "source": []
  },
  {
   "cell_type": "code",
   "execution_count": null,
   "id": "bdc1654f",
   "metadata": {},
   "outputs": [],
   "source": []
  }
 ],
 "metadata": {
  "kernelspec": {
   "display_name": "Python 3 (ipykernel)",
   "language": "python",
   "name": "python3"
  },
  "language_info": {
   "codemirror_mode": {
    "name": "ipython",
    "version": 3
   },
   "file_extension": ".py",
   "mimetype": "text/x-python",
   "name": "python",
   "nbconvert_exporter": "python",
   "pygments_lexer": "ipython3",
   "version": "3.11.0"
  }
 },
 "nbformat": 4,
 "nbformat_minor": 5
}
